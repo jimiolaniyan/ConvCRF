{
 "cells": [
  {
   "cell_type": "markdown",
   "metadata": {},
   "source": [
    "# This notebook contains the code for training the CRF"
   ]
  },
  {
   "cell_type": "code",
   "execution_count": 1,
   "metadata": {},
   "outputs": [],
   "source": [
    "%matplotlib inline\n",
    "\n",
    "%load_ext autoreload\n",
    "%autoreload 2"
   ]
  },
  {
   "cell_type": "code",
   "execution_count": 2,
   "metadata": {},
   "outputs": [
    {
     "name": "stdout",
     "output_type": "stream",
     "text": [
      "2018-11-06 05:32:17,553 INFO Device is cuda\n"
     ]
    }
   ],
   "source": [
    "import sys\n",
    "import timeit\n",
    "import warnings\n",
    "import logging as logger\n",
    "import matplotlib.pyplot as plt\n",
    "import numpy as np\n",
    "\n",
    "import torch\n",
    "import torch.nn as nn\n",
    "\n",
    "from convcrf.convcrf import GaussCRF, default_conf\n",
    "from utils.synthetic import augment_label\n",
    "\n",
    "logger.basicConfig(format='%(asctime)s %(levelname)s %(message)s',\n",
    "                    level=logger.INFO,\n",
    "                    stream=sys.stdout)\n",
    "\n",
    "warnings.filterwarnings('ignore')\n",
    "\n",
    "device = torch.device(\"cuda\" if torch.cuda.is_available() else \"cpu\")\n",
    "\n",
    "logger.info('Device is {}'.format(device))"
   ]
  },
  {
   "cell_type": "markdown",
   "metadata": {},
   "source": [
    "## Load Data"
   ]
  },
  {
   "cell_type": "code",
   "execution_count": 3,
   "metadata": {},
   "outputs": [
    {
     "data": {
      "text/plain": [
       "1449"
      ]
     },
     "execution_count": 3,
     "metadata": {},
     "output_type": "execute_result"
    }
   ],
   "source": [
    "from torch.utils.data import DataLoader, WeightedRandomSampler\n",
    "from utils.pascal_loader import PascalDatasetLoader\n",
    "\n",
    "path = '/home/jupyter/projects/ConvCRF/datasets/pascal/VOCdevkit/VOC2012'\n",
    "pascal_dataset = PascalDatasetLoader(path)\n",
    "num_classes = pascal_dataset.num_classes\n",
    "\n",
    "# num_samples = 200\n",
    "# weights = (1/num_samples)* np.ones(num_samples)\n",
    "\n",
    "# sampler = WeightedRandomSampler(weights, num_samples, False)\n",
    "\n",
    "data_loader = DataLoader(pascal_dataset, num_workers=8, shuffle=True)\n",
    "len(data_loader)"
   ]
  },
  {
   "cell_type": "markdown",
   "metadata": {},
   "source": [
    "## Define the model"
   ]
  },
  {
   "cell_type": "code",
   "execution_count": 4,
   "metadata": {},
   "outputs": [
    {
     "data": {
      "text/plain": [
       "(500, 375)"
      ]
     },
     "execution_count": 4,
     "metadata": {},
     "output_type": "execute_result"
    }
   ],
   "source": [
    "image, _ = iter(data_loader).next()\n",
    "shape = image.shape[2:4]\n",
    "\n",
    "config = default_conf\n",
    "model = GaussCRF(conf=config, shape=(500, 375), nclasses=num_classes)\n",
    "model.to(device)\n",
    "model.shape"
   ]
  },
  {
   "cell_type": "markdown",
   "metadata": {},
   "source": [
    "## Define the loss function and optimizer"
   ]
  },
  {
   "cell_type": "code",
   "execution_count": 5,
   "metadata": {},
   "outputs": [],
   "source": [
    "import torch.optim as optim\n",
    "\n",
    "criterion= nn.CrossEntropyLoss()\n",
    "optimizer = optim.Adam(model.parameters(), lr=0.00005)"
   ]
  },
  {
   "cell_type": "markdown",
   "metadata": {},
   "source": [
    "## Train the network"
   ]
  },
  {
   "cell_type": "code",
   "execution_count": null,
   "metadata": {},
   "outputs": [
    {
     "name": "stdout",
     "output_type": "stream",
     "text": [
      "[1,    20] loss: 1.961\n",
      "[1,    40] loss: 1.286\n",
      "[1,    60] loss: 1.256\n",
      "[1,    80] loss: 1.456\n",
      "[1,   100] loss: 1.817\n"
     ]
    }
   ],
   "source": [
    "for epoch in range(10): \n",
    "    running_loss = 0.0\n",
    "    \n",
    "    counter = 0\n",
    "    for i, data in enumerate(data_loader):\n",
    "        images, labels = data\n",
    "        \n",
    "        shape = images.shape[2:4]\n",
    "        \n",
    "        if shape[0] == 500 and shape[1] == 375: \n",
    "            counter += 1\n",
    "            images = images.to(device)\n",
    "\n",
    "            optimizer.zero_grad()\n",
    "\n",
    "            labels = labels[0]\n",
    "            unary = augment_label(labels, num_classes=num_classes)\n",
    "            unary = unary.transpose(2, 0, 1).reshape([1, num_classes, unary.shape[0], unary.shape[1]])\n",
    "\n",
    "            unary = torch.from_numpy(unary).float().to(device)\n",
    "\n",
    "            outputs = model(unary=unary, img=images)\n",
    "            \n",
    "            labels = labels.to(device)\n",
    "            \n",
    "            outputs = outputs.transpose(1,2).transpose(2,3).contiguous().view(-1, 21)\n",
    "            labels = labels.view(-1)\n",
    "\n",
    "            loss = criterion(outputs, labels)\n",
    "            loss.backward()\n",
    "            optimizer.step()\n",
    "            \n",
    "            running_loss += loss.item()\n",
    "            \n",
    "#             print(\"loss is: {} and running_loss is: {}\".format(loss, running_loss))\n",
    "            \n",
    "            if counter % 20 == 0:\n",
    "                print('[%d, %5d] loss: %.3f' %\n",
    "                      (epoch + 1, counter, running_loss / 20))\n",
    "                running_loss = 0.0\n",
    "        "
   ]
  },
  {
   "cell_type": "code",
   "execution_count": null,
   "metadata": {},
   "outputs": [],
   "source": []
  },
  {
   "cell_type": "code",
   "execution_count": null,
   "metadata": {},
   "outputs": [],
   "source": []
  }
 ],
 "metadata": {
  "kernelspec": {
   "display_name": "Python 3",
   "language": "python",
   "name": "python3"
  },
  "language_info": {
   "codemirror_mode": {
    "name": "ipython",
    "version": 3
   },
   "file_extension": ".py",
   "mimetype": "text/x-python",
   "name": "python",
   "nbconvert_exporter": "python",
   "pygments_lexer": "ipython3",
   "version": "3.5.3"
  }
 },
 "nbformat": 4,
 "nbformat_minor": 2
}
