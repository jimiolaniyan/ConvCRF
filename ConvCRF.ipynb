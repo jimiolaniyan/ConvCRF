{
 "cells": [
  {
   "cell_type": "markdown",
   "metadata": {},
   "source": [
    "# Convolutional CRFs for Semantic Segmentation"
   ]
  },
  {
   "cell_type": "markdown",
   "metadata": {},
   "source": [
    "### This notebook contains code and results of experiments on the ICLR Paper submisson \"Convolutional CRFs for Semantic Segmentation\" as part of the ICLR 2019 Reproducibility challenge"
   ]
  },
  {
   "cell_type": "markdown",
   "metadata": {},
   "source": [
    "### Load Images"
   ]
  },
  {
   "cell_type": "code",
   "execution_count": 38,
   "metadata": {
    "collapsed": true
   },
   "outputs": [],
   "source": [
    "import imageio\n",
    "import matplotlib.pyplot as plt\n",
    "import numpy as np\n",
    "import scipy\n",
    "import skimage.transform\n",
    "\n",
    "IMG = 'data/img_bicycle.png'\n",
    "LABELS = 'data/img_bicycle_labels.png'\n",
    "\n",
    "image = imageio.imread(IMG)\n",
    "labels = imageio.imread(LABELS)"
   ]
  },
  {
   "cell_type": "markdown",
   "metadata": {},
   "source": [
    "### Produce unary by adding noise to label"
   ]
  },
  {
   "cell_type": "code",
   "execution_count": 33,
   "metadata": {
    "collapsed": false
   },
   "outputs": [
    {
     "name": "stderr",
     "output_type": "stream",
     "text": [
      "/home/jimiolaniyan/anaconda2/envs/mldl/lib/python3.6/site-packages/skimage/transform/_warps.py:110: UserWarning: Anti-aliasing will be enabled by default in skimage 0.15 to avoid aliasing artifacts when down-sampling images.\n",
      "  warn(\"Anti-aliasing will be enabled by default in skimage 0.15 to \"\n"
     ]
    }
   ],
   "source": [
    "num_classes = 21\n",
    "keep_prop=0.8\n",
    "scale=8\n",
    "\n",
    "#output\n",
    "unary = None\n",
    "\n",
    "shape = labels.shape # (H, W)\n",
    "labels = labels.reshape(shape[0], shape[1]) # H * W\n",
    "\n",
    "# Onehot encoding of labels\n",
    "onehot = np.eye(num_classes)[labels] # H * W * num_classes\n",
    "\n",
    "\n",
    "lower_shape =  (shape[0] // scale, shape[1] // scale)\n",
    "\n",
    "# Scale down onehot labels to 1/8\n",
    "label_down = skimage.transform.resize(onehot, \n",
    "                                      (lower_shape[0], lower_shape[1], num_classes), \n",
    "                                      order=1, \n",
    "                                      preserve_range=True, \n",
    "                                      mode='constant') # (lower_shape[0], lower_shape[1], num_classes)\n",
    "\n",
    "# scale up onehot of labels to original\n",
    "onehot_up = skimage.transform.resize(label_down,\n",
    "                                      (shape[0], shape[1], num_classes),\n",
    "                                      order=1, preserve_range=True,\n",
    "                                      mode='constant')\n",
    "\n",
    "\n",
    "noise = np.random.randint(0, num_classes, lower_shape)  # Random ints with scaled shape in num_classes range\n",
    "noise = np.eye(num_classes)[noise] # sclaed shape * num_classes\n",
    "\n",
    "# scale up noise labels\n",
    "noise_up = skimage.transform.resize(noise,\n",
    "                                    (shape[0], shape[1], num_classes),\n",
    "                                    order=1, preserve_range=True,\n",
    "                                    mode='constant') \n",
    "\n",
    "mask = np.floor(keep_prop + np.random.rand(*lower_shape))\n",
    "\n",
    "mask_up = skimage.transform.resize(mask, (shape[0], shape[1], 1),\n",
    "                                       order=1, preserve_range=True,\n",
    "                                       mode='constant')\n",
    "\n",
    "unary = mask_up * onehot_up + (1 - mask_up) * noise_up"
   ]
  },
  {
   "cell_type": "markdown",
   "metadata": {},
   "source": [
    "### Get predictions"
   ]
  },
  {
   "cell_type": "code",
   "execution_count": 37,
   "metadata": {
    "collapsed": false
   },
   "outputs": [
    {
     "ename": "ValueError",
     "evalue": "axes don't match array",
     "output_type": "error",
     "traceback": [
      "\u001b[0;31m---------------------------------------------------------------------------\u001b[0m",
      "\u001b[0;31mValueError\u001b[0m                                Traceback (most recent call last)",
      "\u001b[0;32m<ipython-input-37-e191e712973b>\u001b[0m in \u001b[0;36m<module>\u001b[0;34m\u001b[0m\n\u001b[1;32m     13\u001b[0m \u001b[0;31m# Pytorch uses C, H, W\u001b[0m\u001b[0;34m\u001b[0m\u001b[0;34m\u001b[0m\u001b[0m\n\u001b[1;32m     14\u001b[0m \u001b[0;31m# image = image.transpose(2,0,1) # [C, H, W]\u001b[0m\u001b[0;34m\u001b[0m\u001b[0;34m\u001b[0m\u001b[0m\n\u001b[0;32m---> 15\u001b[0;31m \u001b[0mimage\u001b[0m \u001b[0;34m=\u001b[0m \u001b[0mimage\u001b[0m\u001b[0;34m.\u001b[0m\u001b[0mtranspose\u001b[0m\u001b[0;34m(\u001b[0m\u001b[0;36m2\u001b[0m\u001b[0;34m,\u001b[0m \u001b[0;36m0\u001b[0m\u001b[0;34m,\u001b[0m \u001b[0;36m1\u001b[0m\u001b[0;34m)\u001b[0m  \u001b[0;31m# shape: [3, hight, width]\u001b[0m\u001b[0;34m\u001b[0m\u001b[0m\n\u001b[0m\u001b[1;32m     16\u001b[0m \u001b[0;34m\u001b[0m\u001b[0m\n\u001b[1;32m     17\u001b[0m \u001b[0;31m# Add bactch dim\u001b[0m\u001b[0;34m\u001b[0m\u001b[0;34m\u001b[0m\u001b[0m\n",
      "\u001b[0;31mValueError\u001b[0m: axes don't match array"
     ]
    }
   ],
   "source": [
    "from convcrf.convcrf import default_conf\n",
    "import torch\n",
    "import torch.nn as nn\n",
    "from torch.autograd import Variable\n",
    "\n",
    "FILTER_SIZE = 7\n",
    "\n",
    "shape = image.shape[0:2]\n",
    "config = default_conf\n",
    "config['filter_size'] = FILTER_SIZE\n",
    "\n",
    "\n",
    "# Pytorch uses C, H, W\n",
    "# image = image.transpose(2,0,1) # [C, H, W]\n",
    "image = image.transpose(2, 0, 1)  # shape: [3, hight, width]\n",
    "\n",
    "# Add bactch dim\n",
    "image = image.reshape([1, 3, shape[0], shape[1]]) \n",
    "# img_var = Variable(torch.Tensor(image)).cuda()\n",
    "\n",
    "unary = unary.transpose(2, 0, 1)  # shape: [3, hight, width]\n",
    "# Add batch dim\n",
    "unary = unary.reshape([1, num_classes, shape[0], shape[1]])\n",
    "# unary_var = Variable(torch.Tensor(unary)).cuda()"
   ]
  },
  {
   "cell_type": "markdown",
   "metadata": {},
   "source": [
    "### Create args"
   ]
  },
  {
   "cell_type": "code",
   "execution_count": 137,
   "metadata": {
    "collapsed": true
   },
   "outputs": [],
   "source": [
    "from dotmap import DotMap\n",
    "\n",
    "args = DotMap()\n",
    "args.pyinn = False\n",
    "args.nospeed = True "
   ]
  },
  {
   "cell_type": "code",
   "execution_count": null,
   "metadata": {
    "collapsed": true
   },
   "outputs": [],
   "source": [
    "# prediction = do_crf_inference(image, unary, args)"
   ]
  }
 ],
 "metadata": {
  "anaconda-cloud": {},
  "kernelspec": {
   "display_name": "Python [conda env:mldl]",
   "language": "python",
   "name": "conda-env-mldl-py"
  },
  "language_info": {
   "codemirror_mode": {
    "name": "ipython",
    "version": 3
   },
   "file_extension": ".py",
   "mimetype": "text/x-python",
   "name": "python",
   "nbconvert_exporter": "python",
   "pygments_lexer": "ipython3",
   "version": "3.6.6"
  }
 },
 "nbformat": 4,
 "nbformat_minor": 2
}
